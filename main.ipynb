{
 "cells": [
  {
   "cell_type": "code",
   "execution_count": 1,
   "id": "c774177dbaac844a",
   "metadata": {
    "ExecuteTime": {
     "end_time": "2024-05-21T08:05:40.935538Z",
     "start_time": "2024-05-21T08:05:38.832427Z"
    }
   },
   "outputs": [
    {
     "name": "stdout",
     "output_type": "stream",
     "text": [
      "Requirement already satisfied: pip in c:\\users\\user\\github\\yolov9_easyocr_licence_plate_detection\\.venv\\lib\\site-packages (24.0)\n"
     ]
    },
    {
     "name": "stderr",
     "output_type": "stream",
     "text": [
      "WARNING: Ignoring invalid distribution -pencv-python-headless (c:\\users\\user\\github\\yolov9_easyocr_licence_plate_detection\\.venv\\lib\\site-packages)\n",
      "WARNING: Ignoring invalid distribution -pencv-python-headless (c:\\users\\user\\github\\yolov9_easyocr_licence_plate_detection\\.venv\\lib\\site-packages)\n"
     ]
    }
   ],
   "source": [
    "!python -m pip install --upgrade pip"
   ]
  },
  {
   "cell_type": "code",
   "execution_count": 1,
   "id": "d372190ac5818ccc",
   "metadata": {
    "ExecuteTime": {
     "end_time": "2024-05-21T08:05:47.572098Z",
     "start_time": "2024-05-21T08:05:45.471720Z"
    },
    "tags": []
   },
   "outputs": [
    {
     "name": "stdout",
     "output_type": "stream",
     "text": [
      "Requirement already satisfied: easyocr in c:\\python310\\lib\\site-packages (from -r requirements.txt (line 5)) (1.7.1)\n",
      "Requirement already satisfied: yolov9 in c:\\python310\\lib\\site-packages (from -r requirements.txt (line 6)) (0.0.1)\n",
      "Requirement already satisfied: omegaconf in c:\\python310\\lib\\site-packages (from -r requirements.txt (line 7)) (2.3.0)\n",
      "Requirement already satisfied: gitpython in c:\\python310\\lib\\site-packages (from -r requirements.txt (line 8)) (3.1.43)\n",
      "Requirement already satisfied: ipython in c:\\python310\\lib\\site-packages (from -r requirements.txt (line 9)) (8.26.0)\n",
      "Requirement already satisfied: matplotlib>=3.2.2 in c:\\python310\\lib\\site-packages (from -r requirements.txt (line 10)) (3.9.0)\n",
      "Requirement already satisfied: numpy>=1.18.5 in c:\\python310\\lib\\site-packages (from -r requirements.txt (line 11)) (1.26.4)\n",
      "Requirement already satisfied: opencv-python>=4.1.1 in c:\\python310\\lib\\site-packages (from -r requirements.txt (line 12)) (4.9.0.80)\n",
      "Requirement already satisfied: Pillow>=7.1.2 in c:\\python310\\lib\\site-packages (from -r requirements.txt (line 13)) (10.4.0)\n",
      "Requirement already satisfied: psutil in c:\\python310\\lib\\site-packages (from -r requirements.txt (line 14)) (6.0.0)\n",
      "Requirement already satisfied: PyYAML>=5.3.1 in c:\\python310\\lib\\site-packages (from -r requirements.txt (line 15)) (6.0.1)\n",
      "Requirement already satisfied: requests>=2.23.0 in c:\\python310\\lib\\site-packages (from -r requirements.txt (line 16)) (2.32.3)\n",
      "Requirement already satisfied: scipy>=1.4.1 in c:\\python310\\lib\\site-packages (from -r requirements.txt (line 17)) (1.14.0)\n",
      "Requirement already satisfied: thop>=0.1.1 in c:\\python310\\lib\\site-packages (from -r requirements.txt (line 18)) (0.1.1.post2209072238)\n",
      "Requirement already satisfied: torch>=1.7.0 in c:\\python310\\lib\\site-packages (from -r requirements.txt (line 19)) (2.4.0)\n",
      "Requirement already satisfied: torchvision>=0.8.1 in c:\\python310\\lib\\site-packages (from -r requirements.txt (line 20)) (0.19.0)\n",
      "Requirement already satisfied: tqdm>=4.64.0 in c:\\python310\\lib\\site-packages (from -r requirements.txt (line 21)) (4.66.5)\n",
      "Requirement already satisfied: tensorboard>=2.4.1 in c:\\python310\\lib\\site-packages (from -r requirements.txt (line 25)) (2.17.0)\n",
      "Requirement already satisfied: pandas>=1.1.4 in c:\\python310\\lib\\site-packages (from -r requirements.txt (line 30)) (2.2.2)\n",
      "Requirement already satisfied: seaborn>=0.11.0 in c:\\python310\\lib\\site-packages (from -r requirements.txt (line 31)) (0.13.2)\n",
      "Requirement already satisfied: albumentations>=1.0.3 in c:\\python310\\lib\\site-packages (from -r requirements.txt (line 49)) (1.4.13)\n",
      "Requirement already satisfied: pycocotools>=2.0 in c:\\python310\\lib\\site-packages (from -r requirements.txt (line 50)) (2.0.8)\n",
      "Requirement already satisfied: python-bidi in c:\\python310\\lib\\site-packages (from easyocr->-r requirements.txt (line 5)) (0.6.0)\n",
      "Requirement already satisfied: ninja in c:\\python310\\lib\\site-packages (from easyocr->-r requirements.txt (line 5)) (1.11.1.1)\n",
      "Requirement already satisfied: scikit-image in c:\\python310\\lib\\site-packages (from easyocr->-r requirements.txt (line 5)) (0.24.0)\n",
      "Requirement already satisfied: opencv-python-headless in c:\\python310\\lib\\site-packages (from easyocr->-r requirements.txt (line 5)) (4.10.0.84)\n",
      "Requirement already satisfied: Shapely in c:\\python310\\lib\\site-packages (from easyocr->-r requirements.txt (line 5)) (2.0.5)\n",
      "Requirement already satisfied: pyclipper in c:\\python310\\lib\\site-packages (from easyocr->-r requirements.txt (line 5)) (1.3.0.post5)\n",
      "Requirement already satisfied: yolov5 in c:\\python310\\lib\\site-packages (from yolov9->-r requirements.txt (line 6)) (7.0.13)\n",
      "Requirement already satisfied: antlr4-python3-runtime==4.9.* in c:\\python310\\lib\\site-packages (from omegaconf->-r requirements.txt (line 7)) (4.9.3)\n",
      "Requirement already satisfied: gitdb<5,>=4.0.1 in c:\\python310\\lib\\site-packages (from gitpython->-r requirements.txt (line 8)) (4.0.11)\n",
      "Requirement already satisfied: matplotlib-inline in c:\\python310\\lib\\site-packages (from ipython->-r requirements.txt (line 9)) (0.1.7)\n",
      "Requirement already satisfied: traitlets>=5.13.0 in c:\\python310\\lib\\site-packages (from ipython->-r requirements.txt (line 9)) (5.14.3)\n",
      "Requirement already satisfied: colorama in c:\\python310\\lib\\site-packages (from ipython->-r requirements.txt (line 9)) (0.4.6)\n",
      "Requirement already satisfied: jedi>=0.16 in c:\\python310\\lib\\site-packages (from ipython->-r requirements.txt (line 9)) (0.19.1)\n",
      "Requirement already satisfied: exceptiongroup in c:\\python310\\lib\\site-packages (from ipython->-r requirements.txt (line 9)) (1.2.2)\n",
      "Requirement already satisfied: typing-extensions>=4.6 in c:\\python310\\lib\\site-packages (from ipython->-r requirements.txt (line 9)) (4.12.2)\n",
      "Requirement already satisfied: decorator in c:\\python310\\lib\\site-packages (from ipython->-r requirements.txt (line 9)) (5.1.1)\n",
      "Requirement already satisfied: pygments>=2.4.0 in c:\\python310\\lib\\site-packages (from ipython->-r requirements.txt (line 9)) (2.18.0)\n",
      "Requirement already satisfied: prompt-toolkit<3.1.0,>=3.0.41 in c:\\python310\\lib\\site-packages (from ipython->-r requirements.txt (line 9)) (3.0.47)\n",
      "Requirement already satisfied: stack-data in c:\\python310\\lib\\site-packages (from ipython->-r requirements.txt (line 9)) (0.6.3)\n",
      "Requirement already satisfied: cycler>=0.10 in c:\\python310\\lib\\site-packages (from matplotlib>=3.2.2->-r requirements.txt (line 10)) (0.12.1)\n",
      "Requirement already satisfied: python-dateutil>=2.7 in c:\\python310\\lib\\site-packages (from matplotlib>=3.2.2->-r requirements.txt (line 10)) (2.9.0.post0)\n",
      "Requirement already satisfied: contourpy>=1.0.1 in c:\\python310\\lib\\site-packages (from matplotlib>=3.2.2->-r requirements.txt (line 10)) (1.2.1)\n",
      "Requirement already satisfied: packaging>=20.0 in c:\\python310\\lib\\site-packages (from matplotlib>=3.2.2->-r requirements.txt (line 10)) (24.1)\n",
      "Requirement already satisfied: kiwisolver>=1.3.1 in c:\\python310\\lib\\site-packages (from matplotlib>=3.2.2->-r requirements.txt (line 10)) (1.4.5)\n",
      "Requirement already satisfied: pyparsing>=2.3.1 in c:\\python310\\lib\\site-packages (from matplotlib>=3.2.2->-r requirements.txt (line 10)) (3.1.2)\n",
      "Requirement already satisfied: fonttools>=4.22.0 in c:\\python310\\lib\\site-packages (from matplotlib>=3.2.2->-r requirements.txt (line 10)) (4.53.1)\n",
      "Requirement already satisfied: idna<4,>=2.5 in c:\\python310\\lib\\site-packages (from requests>=2.23.0->-r requirements.txt (line 16)) (3.7)\n",
      "Requirement already satisfied: certifi>=2017.4.17 in c:\\python310\\lib\\site-packages (from requests>=2.23.0->-r requirements.txt (line 16)) (2024.7.4)\n",
      "Requirement already satisfied: urllib3<3,>=1.21.1 in c:\\python310\\lib\\site-packages (from requests>=2.23.0->-r requirements.txt (line 16)) (2.2.2)\n",
      "Requirement already satisfied: charset-normalizer<4,>=2 in c:\\python310\\lib\\site-packages (from requests>=2.23.0->-r requirements.txt (line 16)) (3.0.1)\n",
      "Requirement already satisfied: filelock in c:\\python310\\lib\\site-packages (from torch>=1.7.0->-r requirements.txt (line 19)) (3.15.4)\n",
      "Requirement already satisfied: jinja2 in c:\\python310\\lib\\site-packages (from torch>=1.7.0->-r requirements.txt (line 19)) (3.1.2)\n",
      "Requirement already satisfied: networkx in c:\\python310\\lib\\site-packages (from torch>=1.7.0->-r requirements.txt (line 19)) (3.3)\n",
      "Requirement already satisfied: fsspec in c:\\python310\\lib\\site-packages (from torch>=1.7.0->-r requirements.txt (line 19)) (2024.6.1)\n",
      "Requirement already satisfied: sympy in c:\\python310\\lib\\site-packages (from torch>=1.7.0->-r requirements.txt (line 19)) (1.13.1)\n",
      "Requirement already satisfied: protobuf!=4.24.0,<5.0.0,>=3.19.6 in c:\\python310\\lib\\site-packages (from tensorboard>=2.4.1->-r requirements.txt (line 25)) (4.21.2)\n",
      "Requirement already satisfied: markdown>=2.6.8 in c:\\python310\\lib\\site-packages (from tensorboard>=2.4.1->-r requirements.txt (line 25)) (3.6)\n",
      "Requirement already satisfied: six>1.9 in c:\\python310\\lib\\site-packages (from tensorboard>=2.4.1->-r requirements.txt (line 25)) (1.16.0)\n",
      "Requirement already satisfied: absl-py>=0.4 in c:\\python310\\lib\\site-packages (from tensorboard>=2.4.1->-r requirements.txt (line 25)) (2.1.0)\n",
      "Requirement already satisfied: werkzeug>=1.0.1 in c:\\python310\\lib\\site-packages (from tensorboard>=2.4.1->-r requirements.txt (line 25)) (2.2.2)\n",
      "Requirement already satisfied: tensorboard-data-server<0.8.0,>=0.7.0 in c:\\python310\\lib\\site-packages (from tensorboard>=2.4.1->-r requirements.txt (line 25)) (0.7.2)\n",
      "Requirement already satisfied: grpcio>=1.48.2 in c:\\python310\\lib\\site-packages (from tensorboard>=2.4.1->-r requirements.txt (line 25)) (1.65.4)\n",
      "Requirement already satisfied: setuptools>=41.0.0 in c:\\python310\\lib\\site-packages (from tensorboard>=2.4.1->-r requirements.txt (line 25)) (72.1.0)\n",
      "Requirement already satisfied: tzdata>=2022.7 in c:\\python310\\lib\\site-packages (from pandas>=1.1.4->-r requirements.txt (line 30)) (2024.1)\n",
      "Requirement already satisfied: pytz>=2020.1 in c:\\python310\\lib\\site-packages (from pandas>=1.1.4->-r requirements.txt (line 30)) (2022.7.1)\n",
      "Requirement already satisfied: pydantic>=2.7.0 in c:\\python310\\lib\\site-packages (from albumentations>=1.0.3->-r requirements.txt (line 49)) (2.8.2)\n",
      "Requirement already satisfied: albucore>=0.0.13 in c:\\python310\\lib\\site-packages (from albumentations>=1.0.3->-r requirements.txt (line 49)) (0.0.13)\n",
      "Requirement already satisfied: eval-type-backport in c:\\python310\\lib\\site-packages (from albumentations>=1.0.3->-r requirements.txt (line 49)) (0.2.0)\n",
      "Requirement already satisfied: tomli>=2.0.1 in c:\\python310\\lib\\site-packages (from albucore>=0.0.13->albumentations>=1.0.3->-r requirements.txt (line 49)) (2.0.1)\n",
      "Requirement already satisfied: smmap<6,>=3.0.1 in c:\\python310\\lib\\site-packages (from gitdb<5,>=4.0.1->gitpython->-r requirements.txt (line 8)) (5.0.1)\n",
      "Requirement already satisfied: parso<0.9.0,>=0.8.3 in c:\\python310\\lib\\site-packages (from jedi>=0.16->ipython->-r requirements.txt (line 9)) (0.8.4)\n",
      "Requirement already satisfied: wcwidth in c:\\python310\\lib\\site-packages (from prompt-toolkit<3.1.0,>=3.0.41->ipython->-r requirements.txt (line 9)) (0.2.5)\n",
      "Requirement already satisfied: annotated-types>=0.4.0 in c:\\python310\\lib\\site-packages (from pydantic>=2.7.0->albumentations>=1.0.3->-r requirements.txt (line 49)) (0.7.0)\n",
      "Requirement already satisfied: pydantic-core==2.20.1 in c:\\python310\\lib\\site-packages (from pydantic>=2.7.0->albumentations>=1.0.3->-r requirements.txt (line 49)) (2.20.1)\n",
      "Requirement already satisfied: lazy-loader>=0.4 in c:\\python310\\lib\\site-packages (from scikit-image->easyocr->-r requirements.txt (line 5)) (0.4)\n",
      "Requirement already satisfied: tifffile>=2022.8.12 in c:\\python310\\lib\\site-packages (from scikit-image->easyocr->-r requirements.txt (line 5)) (2024.7.24)\n",
      "Requirement already satisfied: imageio>=2.33 in c:\\python310\\lib\\site-packages (from scikit-image->easyocr->-r requirements.txt (line 5)) (2.34.2)\n",
      "Requirement already satisfied: MarkupSafe>=2.1.1 in c:\\python310\\lib\\site-packages (from werkzeug>=1.0.1->tensorboard>=2.4.1->-r requirements.txt (line 25)) (2.1.1)\n",
      "Requirement already satisfied: pure-eval in c:\\python310\\lib\\site-packages (from stack-data->ipython->-r requirements.txt (line 9)) (0.2.2)\n",
      "Requirement already satisfied: asttokens>=2.1.0 in c:\\python310\\lib\\site-packages (from stack-data->ipython->-r requirements.txt (line 9)) (2.4.1)\n",
      "Requirement already satisfied: executing>=1.2.0 in c:\\python310\\lib\\site-packages (from stack-data->ipython->-r requirements.txt (line 9)) (1.2.0)\n",
      "Requirement already satisfied: mpmath<1.4,>=1.1.0 in c:\\python310\\lib\\site-packages (from sympy->torch>=1.7.0->-r requirements.txt (line 19)) (1.3.0)\n",
      "Requirement already satisfied: roboflow>=0.2.29 in c:\\python310\\lib\\site-packages (from yolov5->yolov9->-r requirements.txt (line 6)) (1.1.37)\n",
      "Requirement already satisfied: boto3>=1.19.1 in c:\\python310\\lib\\site-packages (from yolov5->yolov9->-r requirements.txt (line 6)) (1.34.154)\n",
      "Requirement already satisfied: fire in c:\\python310\\lib\\site-packages (from yolov5->yolov9->-r requirements.txt (line 6)) (0.6.0)\n",
      "Requirement already satisfied: sahi>=0.11.10 in c:\\python310\\lib\\site-packages (from yolov5->yolov9->-r requirements.txt (line 6)) (0.11.18)\n",
      "Requirement already satisfied: huggingface-hub>=0.12.0 in c:\\python310\\lib\\site-packages (from yolov5->yolov9->-r requirements.txt (line 6)) (0.24.5)\n",
      "Requirement already satisfied: ultralytics>=8.0.100 in c:\\python310\\lib\\site-packages (from yolov5->yolov9->-r requirements.txt (line 6)) (8.2.73)\n",
      "Requirement already satisfied: botocore<1.35.0,>=1.34.154 in c:\\python310\\lib\\site-packages (from boto3>=1.19.1->yolov5->yolov9->-r requirements.txt (line 6)) (1.34.154)\n",
      "Requirement already satisfied: s3transfer<0.11.0,>=0.10.0 in c:\\python310\\lib\\site-packages (from boto3>=1.19.1->yolov5->yolov9->-r requirements.txt (line 6)) (0.10.2)\n",
      "Requirement already satisfied: jmespath<2.0.0,>=0.7.1 in c:\\python310\\lib\\site-packages (from boto3>=1.19.1->yolov5->yolov9->-r requirements.txt (line 6)) (1.0.1)\n",
      "Requirement already satisfied: python-dotenv in c:\\python310\\lib\\site-packages (from roboflow>=0.2.29->yolov5->yolov9->-r requirements.txt (line 6)) (1.0.1)\n",
      "Requirement already satisfied: chardet==4.0.0 in c:\\python310\\lib\\site-packages (from roboflow>=0.2.29->yolov5->yolov9->-r requirements.txt (line 6)) (4.0.0)\n",
      "Requirement already satisfied: filetype in c:\\python310\\lib\\site-packages (from roboflow>=0.2.29->yolov5->yolov9->-r requirements.txt (line 6)) (1.2.0)\n",
      "Requirement already satisfied: requests-toolbelt in c:\\python310\\lib\\site-packages (from roboflow>=0.2.29->yolov5->yolov9->-r requirements.txt (line 6)) (1.0.0)\n",
      "Requirement already satisfied: click in c:\\python310\\lib\\site-packages (from sahi>=0.11.10->yolov5->yolov9->-r requirements.txt (line 6)) (8.1.3)\n",
      "Requirement already satisfied: pybboxes==0.1.6 in c:\\python310\\lib\\site-packages (from sahi>=0.11.10->yolov5->yolov9->-r requirements.txt (line 6)) (0.1.6)\n",
      "Requirement already satisfied: terminaltables in c:\\python310\\lib\\site-packages (from sahi>=0.11.10->yolov5->yolov9->-r requirements.txt (line 6)) (3.1.10)\n",
      "Requirement already satisfied: py-cpuinfo in c:\\python310\\lib\\site-packages (from ultralytics>=8.0.100->yolov5->yolov9->-r requirements.txt (line 6)) (9.0.0)\n",
      "Requirement already satisfied: ultralytics-thop>=2.0.0 in c:\\python310\\lib\\site-packages (from ultralytics>=8.0.100->yolov5->yolov9->-r requirements.txt (line 6)) (2.0.0)\n",
      "Requirement already satisfied: termcolor in c:\\python310\\lib\\site-packages (from fire->yolov5->yolov9->-r requirements.txt (line 6)) (2.4.0)\n"
     ]
    },
    {
     "name": "stderr",
     "output_type": "stream",
     "text": [
      "\n",
      "[notice] A new release of pip available: 22.2.2 -> 24.2\n",
      "[notice] To update, run: python.exe -m pip install --upgrade pip\n"
     ]
    }
   ],
   "source": [
    "!pip install -r requirements.txt"
   ]
  },
  {
   "cell_type": "code",
   "execution_count": 2,
   "id": "initial_id",
   "metadata": {
    "ExecuteTime": {
     "end_time": "2024-05-21T08:05:54.968552Z",
     "start_time": "2024-05-21T08:05:50.667890Z"
    },
    "collapsed": true,
    "jupyter": {
     "outputs_hidden": true
    },
    "tags": []
   },
   "outputs": [
    {
     "ename": "ModuleNotFoundError",
     "evalue": "No module named 'easyocr'",
     "output_type": "error",
     "traceback": [
      "\u001b[1;31m---------------------------------------------------------------------------\u001b[0m",
      "\u001b[1;31mModuleNotFoundError\u001b[0m                       Traceback (most recent call last)",
      "Cell \u001b[1;32mIn[2], line 1\u001b[0m\n\u001b[1;32m----> 1\u001b[0m \u001b[38;5;28;01mimport\u001b[39;00m \u001b[38;5;21;01measyocr\u001b[39;00m\n\u001b[0;32m      2\u001b[0m \u001b[38;5;28;01mimport\u001b[39;00m \u001b[38;5;21;01myolov9\u001b[39;00m\n",
      "\u001b[1;31mModuleNotFoundError\u001b[0m: No module named 'easyocr'"
     ]
    }
   ],
   "source": [
    "import easyocr\n",
    "import yolov9"
   ]
  },
  {
   "cell_type": "code",
   "execution_count": 3,
   "id": "e2c2751cbafd7eb4",
   "metadata": {
    "ExecuteTime": {
     "end_time": "2024-05-25T21:22:24.522286Z",
     "start_time": "2024-05-25T21:22:24.510276Z"
    },
    "tags": []
   },
   "outputs": [],
   "source": [
    "#Choose you image or video file for detection\n",
    "image = 'sample.jpg'"
   ]
  },
  {
   "cell_type": "code",
   "execution_count": 4,
   "id": "b3c9614cb23e3ec8",
   "metadata": {
    "ExecuteTime": {
     "end_time": "2024-05-25T21:40:53.075145Z",
     "start_time": "2024-05-25T21:40:43.932691Z"
    },
    "tags": []
   },
   "outputs": [
    {
     "name": "stderr",
     "output_type": "stream",
     "text": [
      "Neither CUDA nor MPS are available - defaulting to CPU. Note: This module is much faster with a GPU.\n",
      "C:\\Python310\\lib\\site-packages\\easyocr\\detection.py:78: FutureWarning: You are using `torch.load` with `weights_only=False` (the current default value), which uses the default pickle module implicitly. It is possible to construct malicious pickle data which will execute arbitrary code during unpickling (See https://github.com/pytorch/pytorch/blob/main/SECURITY.md#untrusted-models for more details). In a future release, the default value for `weights_only` will be flipped to `True`. This limits the functions that could be executed during unpickling. Arbitrary objects will no longer be allowed to be loaded via this mode unless they are explicitly allowlisted by the user via `torch.serialization.add_safe_globals`. We recommend you start setting `weights_only=True` for any use case where you don't have full control of the loaded file. Please open an issue on GitHub for any issues related to this experimental feature.\n",
      "  net.load_state_dict(copyStateDict(torch.load(trained_model, map_location=device)))\n",
      "C:\\Python310\\lib\\site-packages\\easyocr\\recognition.py:169: FutureWarning: You are using `torch.load` with `weights_only=False` (the current default value), which uses the default pickle module implicitly. It is possible to construct malicious pickle data which will execute arbitrary code during unpickling (See https://github.com/pytorch/pytorch/blob/main/SECURITY.md#untrusted-models for more details). In a future release, the default value for `weights_only` will be flipped to `True`. This limits the functions that could be executed during unpickling. Arbitrary objects will no longer be allowed to be loaded via this mode unless they are explicitly allowlisted by the user via `torch.serialization.add_safe_globals`. We recommend you start setting `weights_only=True` for any use case where you don't have full control of the loaded file. Please open an issue on GitHub for any issues related to this experimental feature.\n",
      "  state_dict = torch.load(model_path, map_location=device)\n",
      "YOLOv5  2024-5-26 Python-3.10.7 torch-2.4.0+cpu CPU\n",
      "\n",
      "D:\\Tutorial\\yolov9_license\\models\\experimental.py:75: FutureWarning: You are using `torch.load` with `weights_only=False` (the current default value), which uses the default pickle module implicitly. It is possible to construct malicious pickle data which will execute arbitrary code during unpickling (See https://github.com/pytorch/pytorch/blob/main/SECURITY.md#untrusted-models for more details). In a future release, the default value for `weights_only` will be flipped to `True`. This limits the functions that could be executed during unpickling. Arbitrary objects will no longer be allowed to be loaded via this mode unless they are explicitly allowlisted by the user via `torch.serialization.add_safe_globals`. We recommend you start setting `weights_only=True` for any use case where you don't have full control of the loaded file. Please open an issue on GitHub for any issues related to this experimental feature.\n",
      "  ckpt = torch.load(attempt_download(w), map_location='cpu')  # load\n",
      "Traceback (most recent call last):\n",
      "  File \"D:\\Tutorial\\yolov9_license\\detect.py\", line 281, in <module>\n",
      "    main(opt)\n",
      "  File \"D:\\Tutorial\\yolov9_license\\detect.py\", line 276, in main\n",
      "    run(**vars(opt))\n",
      "  File \"C:\\Python310\\lib\\site-packages\\torch\\utils\\_contextlib.py\", line 116, in decorate_context\n",
      "    return func(*args, **kwargs)\n",
      "  File \"D:\\Tutorial\\yolov9_license\\detect.py\", line 73, in run\n",
      "    model = DetectMultiBackend(weights, device=device, dnn=dnn, data=data, fp16=half)\n",
      "  File \"D:\\Tutorial\\yolov9_license\\models\\common.py\", line 684, in __init__\n",
      "    model = attempt_load(weights if isinstance(weights, list) else w, device=device, inplace=True, fuse=fuse)\n",
      "  File \"D:\\Tutorial\\yolov9_license\\models\\experimental.py\", line 75, in attempt_load\n",
      "    ckpt = torch.load(attempt_download(w), map_location='cpu')  # load\n",
      "  File \"C:\\Python310\\lib\\site-packages\\torch\\serialization.py\", line 1114, in load\n",
      "    return _legacy_load(\n",
      "  File \"C:\\Python310\\lib\\site-packages\\torch\\serialization.py\", line 1338, in _legacy_load\n",
      "    magic_number = pickle_module.load(f, **pickle_load_args)\n",
      "_pickle.UnpicklingError: invalid load key, 'v'.\n"
     ]
    }
   ],
   "source": [
    "!python detect.py --source {image} --device cpu --save-txt --save-crop"
   ]
  },
  {
   "cell_type": "code",
   "execution_count": null,
   "id": "4f186b206809bd04",
   "metadata": {},
   "outputs": [],
   "source": []
  }
 ],
 "metadata": {
  "kernelspec": {
   "display_name": "Python 3 (ipykernel)",
   "language": "python",
   "name": "python3"
  },
  "language_info": {
   "codemirror_mode": {
    "name": "ipython",
    "version": 3
   },
   "file_extension": ".py",
   "mimetype": "text/x-python",
   "name": "python",
   "nbconvert_exporter": "python",
   "pygments_lexer": "ipython3",
   "version": "3.11.5"
  }
 },
 "nbformat": 4,
 "nbformat_minor": 5
}
